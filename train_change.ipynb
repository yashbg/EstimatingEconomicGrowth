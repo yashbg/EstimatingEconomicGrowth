{
 "metadata": {
  "language_info": {
   "codemirror_mode": {
    "name": "ipython",
    "version": 3
   },
   "file_extension": ".py",
   "mimetype": "text/x-python",
   "name": "python",
   "nbconvert_exporter": "python",
   "pygments_lexer": "ipython3",
   "version": "3.8.5"
  },
  "orig_nbformat": 2,
  "kernelspec": {
   "name": "python385jvsc74a57bd06827e85544b07867c713d9b246e6a681b0695820de3a21fba7151659a9e7e1b3",
   "display_name": "Python 3.8.5 64-bit ('base': conda)"
  },
  "metadata": {
   "interpreter": {
    "hash": "6827e85544b07867c713d9b246e6a681b0695820de3a21fba7151659a9e7e1b3"
   }
  }
 },
 "nbformat": 4,
 "nbformat_minor": 2,
 "cells": [
  {
   "source": [
    "# Estimating Economic Growth using Deep Learning"
   ],
   "cell_type": "markdown",
   "metadata": {}
  },
  {
   "cell_type": "code",
   "execution_count": 1,
   "metadata": {},
   "outputs": [],
   "source": [
    "import pandas as pd\n",
    "import numpy as np\n",
    "from sklearn.model_selection import train_test_split\n",
    "from tensorflow import keras\n",
    "from tensorflow.keras import layers, callbacks"
   ]
  },
  {
   "cell_type": "code",
   "execution_count": 2,
   "metadata": {},
   "outputs": [
    {
     "output_type": "execute_result",
     "data": {
      "text/plain": [
       "      foreign_direct_investment  gross_savings  unemployment  labor_force  \\\n",
       "0                 -2.849774e+08   6.070487e+08      9.919000    5886907.0   \n",
       "1                 -2.558925e+08   7.904626e+08      8.830000    6198355.0   \n",
       "2                 -2.356262e+08   9.238376e+08      5.750358    6483460.0   \n",
       "3                 -1.671812e+08   8.078992e+08      6.204500    6644359.0   \n",
       "4                 -3.088863e+08   1.275667e+09      6.518000    6770366.0   \n",
       "...                         ...            ...           ...          ...   \n",
       "4707              -1.647262e+08  -1.664565e+08      5.370000    6194591.0   \n",
       "4708              -1.608996e+08  -1.106623e+09     14.496500    6285545.0   \n",
       "4709              -1.568699e+08  -3.966485e+08     13.044500    6385796.0   \n",
       "4710              -1.993179e+08  -2.492056e+08      4.770000    6486791.0   \n",
       "4711              -1.672737e+08  -6.862573e+08     12.493500    6587823.0   \n",
       "\n",
       "      mortality_rate  new_businesses_registered  education_expenditure  \\\n",
       "0              116.3                    3023.20           2.289413e+08   \n",
       "1              112.1                    4244.00           2.089063e+08   \n",
       "2              107.9                    2675.60           1.976982e+08   \n",
       "3              103.7                    2833.15           1.732177e+08   \n",
       "4               99.5                    2357.15           2.666646e+08   \n",
       "...              ...                        ...                    ...   \n",
       "4707            81.4                    8541.00           1.105866e+08   \n",
       "4708            73.8                    9491.00           1.308970e+08   \n",
       "4709            67.8                    9782.00           1.382525e+08   \n",
       "4710            64.4                    9465.00           1.420632e+08   \n",
       "4711            62.0                    9055.00           1.439060e+08   \n",
       "\n",
       "      age_dependency_ratio  food_production_index  human_capital_index  ...  \\\n",
       "0               102.663238                  98.77             0.437499  ...   \n",
       "1               101.562371                  96.05             0.437499  ...   \n",
       "2               100.349127                 106.32             0.437499  ...   \n",
       "3               100.970943                  97.63             0.433682  ...   \n",
       "4               101.600183                 108.92             0.458621  ...   \n",
       "...                    ...                    ...                  ...  ...   \n",
       "4707             81.230012                  88.43             0.456140  ...   \n",
       "4708             81.775797                  94.08             0.463222  ...   \n",
       "4709             82.350264                  92.05             0.462221  ...   \n",
       "4710             82.840045                  91.23             0.462221  ...   \n",
       "4711             83.138588                  83.42             0.468750  ...   \n",
       "\n",
       "      tobacco_use  profit_tax  population  literacy_rate  birth_rate  \\\n",
       "0       19.760000   18.000000  23680871.0      67.580448      46.231   \n",
       "1       19.091144   18.963333  24726684.0      65.520050      45.507   \n",
       "2       21.744152    0.000000  25654277.0      60.358543      44.723   \n",
       "3       22.674953    0.000000  26433049.0      57.309657      43.870   \n",
       "4       24.618376    0.000000  27100536.0      68.419065      42.944   \n",
       "...           ...         ...         ...            ...         ...   \n",
       "4707    23.640000   20.000000  12894316.0      83.582710      36.526   \n",
       "4708    15.200000   19.800000  13115131.0      76.182669      36.292   \n",
       "4709    21.990000   19.600000  13350356.0      78.333111      35.768   \n",
       "4710    14.700000   17.700000  13586681.0      88.693420      34.978   \n",
       "4711    21.260000   17.600000  13814629.0      77.697648      33.981   \n",
       "\n",
       "      death_rate   migration  agriculture_forestry_fishing      industry  \\\n",
       "0         10.704   -20393.25                  2.085294e+09  1.265641e+09   \n",
       "1         10.356  -105319.20                  1.722979e+09  1.520410e+09   \n",
       "2         10.003  -183431.65                  1.931964e+09  1.664800e+09   \n",
       "3          9.645  -102640.95                  1.862220e+09  1.834569e+09   \n",
       "4          9.287 -1046361.00                  2.234193e+09  1.995021e+09   \n",
       "...          ...         ...                           ...           ...   \n",
       "4707      12.384  -128308.20                  5.846768e+08  1.465445e+09   \n",
       "4708      11.167  -622997.00                  6.332076e+08  1.993847e+09   \n",
       "4709      10.115  -123286.35                  5.735512e+08  1.910608e+09   \n",
       "4710       9.277  -123286.35                  7.187512e+08  1.949359e+09   \n",
       "4711       8.673  -123286.35                  6.929767e+08  1.870278e+09   \n",
       "\n",
       "      gdp_per_capita_change  \n",
       "0                -11.916132  \n",
       "1                 -0.881195  \n",
       "2                  7.581516  \n",
       "3                  3.989521  \n",
       "4                 27.823689  \n",
       "...                     ...  \n",
       "4707              57.943425  \n",
       "4708              76.923250  \n",
       "4709               1.155332  \n",
       "4710               3.585083  \n",
       "4711               0.607668  \n",
       "\n",
       "[4712 rows x 24 columns]"
      ],
      "text/html": "<div>\n<style scoped>\n    .dataframe tbody tr th:only-of-type {\n        vertical-align: middle;\n    }\n\n    .dataframe tbody tr th {\n        vertical-align: top;\n    }\n\n    .dataframe thead th {\n        text-align: right;\n    }\n</style>\n<table border=\"1\" class=\"dataframe\">\n  <thead>\n    <tr style=\"text-align: right;\">\n      <th></th>\n      <th>foreign_direct_investment</th>\n      <th>gross_savings</th>\n      <th>unemployment</th>\n      <th>labor_force</th>\n      <th>mortality_rate</th>\n      <th>new_businesses_registered</th>\n      <th>education_expenditure</th>\n      <th>age_dependency_ratio</th>\n      <th>food_production_index</th>\n      <th>human_capital_index</th>\n      <th>...</th>\n      <th>tobacco_use</th>\n      <th>profit_tax</th>\n      <th>population</th>\n      <th>literacy_rate</th>\n      <th>birth_rate</th>\n      <th>death_rate</th>\n      <th>migration</th>\n      <th>agriculture_forestry_fishing</th>\n      <th>industry</th>\n      <th>gdp_per_capita_change</th>\n    </tr>\n  </thead>\n  <tbody>\n    <tr>\n      <th>0</th>\n      <td>-2.849774e+08</td>\n      <td>6.070487e+08</td>\n      <td>9.919000</td>\n      <td>5886907.0</td>\n      <td>116.3</td>\n      <td>3023.20</td>\n      <td>2.289413e+08</td>\n      <td>102.663238</td>\n      <td>98.77</td>\n      <td>0.437499</td>\n      <td>...</td>\n      <td>19.760000</td>\n      <td>18.000000</td>\n      <td>23680871.0</td>\n      <td>67.580448</td>\n      <td>46.231</td>\n      <td>10.704</td>\n      <td>-20393.25</td>\n      <td>2.085294e+09</td>\n      <td>1.265641e+09</td>\n      <td>-11.916132</td>\n    </tr>\n    <tr>\n      <th>1</th>\n      <td>-2.558925e+08</td>\n      <td>7.904626e+08</td>\n      <td>8.830000</td>\n      <td>6198355.0</td>\n      <td>112.1</td>\n      <td>4244.00</td>\n      <td>2.089063e+08</td>\n      <td>101.562371</td>\n      <td>96.05</td>\n      <td>0.437499</td>\n      <td>...</td>\n      <td>19.091144</td>\n      <td>18.963333</td>\n      <td>24726684.0</td>\n      <td>65.520050</td>\n      <td>45.507</td>\n      <td>10.356</td>\n      <td>-105319.20</td>\n      <td>1.722979e+09</td>\n      <td>1.520410e+09</td>\n      <td>-0.881195</td>\n    </tr>\n    <tr>\n      <th>2</th>\n      <td>-2.356262e+08</td>\n      <td>9.238376e+08</td>\n      <td>5.750358</td>\n      <td>6483460.0</td>\n      <td>107.9</td>\n      <td>2675.60</td>\n      <td>1.976982e+08</td>\n      <td>100.349127</td>\n      <td>106.32</td>\n      <td>0.437499</td>\n      <td>...</td>\n      <td>21.744152</td>\n      <td>0.000000</td>\n      <td>25654277.0</td>\n      <td>60.358543</td>\n      <td>44.723</td>\n      <td>10.003</td>\n      <td>-183431.65</td>\n      <td>1.931964e+09</td>\n      <td>1.664800e+09</td>\n      <td>7.581516</td>\n    </tr>\n    <tr>\n      <th>3</th>\n      <td>-1.671812e+08</td>\n      <td>8.078992e+08</td>\n      <td>6.204500</td>\n      <td>6644359.0</td>\n      <td>103.7</td>\n      <td>2833.15</td>\n      <td>1.732177e+08</td>\n      <td>100.970943</td>\n      <td>97.63</td>\n      <td>0.433682</td>\n      <td>...</td>\n      <td>22.674953</td>\n      <td>0.000000</td>\n      <td>26433049.0</td>\n      <td>57.309657</td>\n      <td>43.870</td>\n      <td>9.645</td>\n      <td>-102640.95</td>\n      <td>1.862220e+09</td>\n      <td>1.834569e+09</td>\n      <td>3.989521</td>\n    </tr>\n    <tr>\n      <th>4</th>\n      <td>-3.088863e+08</td>\n      <td>1.275667e+09</td>\n      <td>6.518000</td>\n      <td>6770366.0</td>\n      <td>99.5</td>\n      <td>2357.15</td>\n      <td>2.666646e+08</td>\n      <td>101.600183</td>\n      <td>108.92</td>\n      <td>0.458621</td>\n      <td>...</td>\n      <td>24.618376</td>\n      <td>0.000000</td>\n      <td>27100536.0</td>\n      <td>68.419065</td>\n      <td>42.944</td>\n      <td>9.287</td>\n      <td>-1046361.00</td>\n      <td>2.234193e+09</td>\n      <td>1.995021e+09</td>\n      <td>27.823689</td>\n    </tr>\n    <tr>\n      <th>...</th>\n      <td>...</td>\n      <td>...</td>\n      <td>...</td>\n      <td>...</td>\n      <td>...</td>\n      <td>...</td>\n      <td>...</td>\n      <td>...</td>\n      <td>...</td>\n      <td>...</td>\n      <td>...</td>\n      <td>...</td>\n      <td>...</td>\n      <td>...</td>\n      <td>...</td>\n      <td>...</td>\n      <td>...</td>\n      <td>...</td>\n      <td>...</td>\n      <td>...</td>\n      <td>...</td>\n    </tr>\n    <tr>\n      <th>4707</th>\n      <td>-1.647262e+08</td>\n      <td>-1.664565e+08</td>\n      <td>5.370000</td>\n      <td>6194591.0</td>\n      <td>81.4</td>\n      <td>8541.00</td>\n      <td>1.105866e+08</td>\n      <td>81.230012</td>\n      <td>88.43</td>\n      <td>0.456140</td>\n      <td>...</td>\n      <td>23.640000</td>\n      <td>20.000000</td>\n      <td>12894316.0</td>\n      <td>83.582710</td>\n      <td>36.526</td>\n      <td>12.384</td>\n      <td>-128308.20</td>\n      <td>5.846768e+08</td>\n      <td>1.465445e+09</td>\n      <td>57.943425</td>\n    </tr>\n    <tr>\n      <th>4708</th>\n      <td>-1.608996e+08</td>\n      <td>-1.106623e+09</td>\n      <td>14.496500</td>\n      <td>6285545.0</td>\n      <td>73.8</td>\n      <td>9491.00</td>\n      <td>1.308970e+08</td>\n      <td>81.775797</td>\n      <td>94.08</td>\n      <td>0.463222</td>\n      <td>...</td>\n      <td>15.200000</td>\n      <td>19.800000</td>\n      <td>13115131.0</td>\n      <td>76.182669</td>\n      <td>36.292</td>\n      <td>11.167</td>\n      <td>-622997.00</td>\n      <td>6.332076e+08</td>\n      <td>1.993847e+09</td>\n      <td>76.923250</td>\n    </tr>\n    <tr>\n      <th>4709</th>\n      <td>-1.568699e+08</td>\n      <td>-3.966485e+08</td>\n      <td>13.044500</td>\n      <td>6385796.0</td>\n      <td>67.8</td>\n      <td>9782.00</td>\n      <td>1.382525e+08</td>\n      <td>82.350264</td>\n      <td>92.05</td>\n      <td>0.462221</td>\n      <td>...</td>\n      <td>21.990000</td>\n      <td>19.600000</td>\n      <td>13350356.0</td>\n      <td>78.333111</td>\n      <td>35.768</td>\n      <td>10.115</td>\n      <td>-123286.35</td>\n      <td>5.735512e+08</td>\n      <td>1.910608e+09</td>\n      <td>1.155332</td>\n    </tr>\n    <tr>\n      <th>4710</th>\n      <td>-1.993179e+08</td>\n      <td>-2.492056e+08</td>\n      <td>4.770000</td>\n      <td>6486791.0</td>\n      <td>64.4</td>\n      <td>9465.00</td>\n      <td>1.420632e+08</td>\n      <td>82.840045</td>\n      <td>91.23</td>\n      <td>0.462221</td>\n      <td>...</td>\n      <td>14.700000</td>\n      <td>17.700000</td>\n      <td>13586681.0</td>\n      <td>88.693420</td>\n      <td>34.978</td>\n      <td>9.277</td>\n      <td>-123286.35</td>\n      <td>7.187512e+08</td>\n      <td>1.949359e+09</td>\n      <td>3.585083</td>\n    </tr>\n    <tr>\n      <th>4711</th>\n      <td>-1.672737e+08</td>\n      <td>-6.862573e+08</td>\n      <td>12.493500</td>\n      <td>6587823.0</td>\n      <td>62.0</td>\n      <td>9055.00</td>\n      <td>1.439060e+08</td>\n      <td>83.138588</td>\n      <td>83.42</td>\n      <td>0.468750</td>\n      <td>...</td>\n      <td>21.260000</td>\n      <td>17.600000</td>\n      <td>13814629.0</td>\n      <td>77.697648</td>\n      <td>33.981</td>\n      <td>8.673</td>\n      <td>-123286.35</td>\n      <td>6.929767e+08</td>\n      <td>1.870278e+09</td>\n      <td>0.607668</td>\n    </tr>\n  </tbody>\n</table>\n<p>4712 rows × 24 columns</p>\n</div>"
     },
     "metadata": {},
     "execution_count": 2
    }
   ],
   "source": [
    "data = pd.read_csv('data_change_final.csv')\n",
    "data"
   ]
  },
  {
   "source": [
    "## Splitting the data into training and validation data"
   ],
   "cell_type": "markdown",
   "metadata": {}
  },
  {
   "cell_type": "code",
   "execution_count": 3,
   "metadata": {},
   "outputs": [],
   "source": [
    "X = data.drop('gdp_per_capita_change', axis=1)\n",
    "y = data.gdp_per_capita_change"
   ]
  },
  {
   "cell_type": "code",
   "execution_count": 4,
   "metadata": {},
   "outputs": [],
   "source": [
    "X_train, X_test, y_train, y_test = train_test_split(X, y, test_size=0.1, random_state=42)"
   ]
  },
  {
   "source": [
    "## Building the Deep Learning model"
   ],
   "cell_type": "markdown",
   "metadata": {}
  },
  {
   "cell_type": "code",
   "execution_count": 5,
   "metadata": {},
   "outputs": [],
   "source": [
    "input_shape = [X_train.shape[1]]"
   ]
  },
  {
   "cell_type": "code",
   "execution_count": 6,
   "metadata": {},
   "outputs": [],
   "source": [
    "model = keras.Sequential([\n",
    "    layers.BatchNormalization(input_shape=input_shape),\n",
    "    layers.Dense(256, activation='relu'),\n",
    "    layers.Dropout(0.3),\n",
    "    layers.BatchNormalization(),\n",
    "    layers.Dense(256, activation='relu'),\n",
    "    layers.Dropout(0.3),\n",
    "    layers.BatchNormalization(),\n",
    "    layers.Dense(256, activation='relu'),\n",
    "    layers.Dropout(0.3),\n",
    "    layers.BatchNormalization(),\n",
    "    layers.Dense(1),\n",
    "])"
   ]
  },
  {
   "cell_type": "code",
   "execution_count": 7,
   "metadata": {},
   "outputs": [],
   "source": [
    "opt = keras.optimizers.Adam(learning_rate=0.001)\n",
    "\n",
    "model.compile(\n",
    "    optimizer=opt,\n",
    "    loss='mae',\n",
    ")\n",
    "\n",
    "early_stopping = callbacks.EarlyStopping(\n",
    "    min_delta=0.1,\n",
    "    patience=20,\n",
    "    restore_best_weights=True,\n",
    ")"
   ]
  },
  {
   "source": [
    "## Training the model"
   ],
   "cell_type": "markdown",
   "metadata": {}
  },
  {
   "cell_type": "code",
   "execution_count": 8,
   "metadata": {},
   "outputs": [
    {
     "output_type": "stream",
     "name": "stdout",
     "text": [
      "Epoch 1/400\n",
      "30/30 [==============================] - 1s 19ms/step - loss: 1138.8121 - val_loss: 1234.2756\n",
      "Epoch 2/400\n",
      "30/30 [==============================] - 0s 6ms/step - loss: 1046.4595 - val_loss: 1233.0873\n",
      "Epoch 3/400\n",
      "30/30 [==============================] - 0s 6ms/step - loss: 998.8948 - val_loss: 1233.6885\n",
      "Epoch 4/400\n",
      "30/30 [==============================] - 0s 7ms/step - loss: 1143.0625 - val_loss: 1232.5498\n",
      "Epoch 5/400\n",
      "30/30 [==============================] - 0s 6ms/step - loss: 1207.4216 - val_loss: 1232.1028\n",
      "Epoch 6/400\n",
      "30/30 [==============================] - 0s 7ms/step - loss: 953.2922 - val_loss: 1228.7131\n",
      "Epoch 7/400\n",
      "30/30 [==============================] - 0s 6ms/step - loss: 1088.8380 - val_loss: 1229.4164\n",
      "Epoch 8/400\n",
      "30/30 [==============================] - 0s 6ms/step - loss: 1124.9922 - val_loss: 1227.3015\n",
      "Epoch 9/400\n",
      "30/30 [==============================] - 0s 6ms/step - loss: 1122.9550 - val_loss: 1223.0637\n",
      "Epoch 10/400\n",
      "30/30 [==============================] - 0s 6ms/step - loss: 1125.1643 - val_loss: 1221.0034\n",
      "Epoch 11/400\n",
      "30/30 [==============================] - 0s 6ms/step - loss: 1096.9514 - val_loss: 1217.6542\n",
      "Epoch 12/400\n",
      "30/30 [==============================] - 0s 7ms/step - loss: 1158.7617 - val_loss: 1213.8008\n",
      "Epoch 13/400\n",
      "30/30 [==============================] - 0s 6ms/step - loss: 1026.6320 - val_loss: 1214.4039\n",
      "Epoch 14/400\n",
      "30/30 [==============================] - 0s 6ms/step - loss: 1340.9917 - val_loss: 1207.6760\n",
      "Epoch 15/400\n",
      "30/30 [==============================] - 0s 6ms/step - loss: 1472.9659 - val_loss: 1210.5634\n",
      "Epoch 16/400\n",
      "30/30 [==============================] - 0s 6ms/step - loss: 1288.8443 - val_loss: 1205.1328\n",
      "Epoch 17/400\n",
      "30/30 [==============================] - 0s 6ms/step - loss: 1156.6918 - val_loss: 1205.4536\n",
      "Epoch 18/400\n",
      "30/30 [==============================] - 0s 6ms/step - loss: 1082.3401 - val_loss: 1204.4740\n",
      "Epoch 19/400\n",
      "30/30 [==============================] - 0s 6ms/step - loss: 1339.4879 - val_loss: 1199.5201\n",
      "Epoch 20/400\n",
      "30/30 [==============================] - 0s 6ms/step - loss: 1262.2062 - val_loss: 1196.5732\n",
      "Epoch 21/400\n",
      "30/30 [==============================] - 0s 6ms/step - loss: 1251.8616 - val_loss: 1196.8213\n",
      "Epoch 22/400\n",
      "30/30 [==============================] - 0s 6ms/step - loss: 1403.0399 - val_loss: 1196.4861\n",
      "Epoch 23/400\n",
      "30/30 [==============================] - 0s 6ms/step - loss: 1170.6551 - val_loss: 1195.2432\n",
      "Epoch 24/400\n",
      "30/30 [==============================] - 0s 6ms/step - loss: 1180.6777 - val_loss: 1191.2670\n",
      "Epoch 25/400\n",
      "30/30 [==============================] - 0s 6ms/step - loss: 1321.6869 - val_loss: 1190.8085\n",
      "Epoch 26/400\n",
      "30/30 [==============================] - 0s 6ms/step - loss: 1028.5969 - val_loss: 1192.3475\n",
      "Epoch 27/400\n",
      "30/30 [==============================] - 0s 5ms/step - loss: 1139.6555 - val_loss: 1195.0626\n",
      "Epoch 28/400\n",
      "30/30 [==============================] - 0s 6ms/step - loss: 1117.4519 - val_loss: 1191.9600\n",
      "Epoch 29/400\n",
      "30/30 [==============================] - 0s 5ms/step - loss: 1000.4433 - val_loss: 1189.3667\n",
      "Epoch 30/400\n",
      "30/30 [==============================] - 0s 5ms/step - loss: 976.1288 - val_loss: 1190.3038\n",
      "Epoch 31/400\n",
      "30/30 [==============================] - 0s 5ms/step - loss: 1399.0059 - val_loss: 1190.5226\n",
      "Epoch 32/400\n",
      "30/30 [==============================] - 0s 5ms/step - loss: 1347.9614 - val_loss: 1180.6270\n",
      "Epoch 33/400\n",
      "30/30 [==============================] - 0s 5ms/step - loss: 1083.9873 - val_loss: 1188.6874\n",
      "Epoch 34/400\n",
      "30/30 [==============================] - 0s 5ms/step - loss: 1240.6592 - val_loss: 1182.8179\n",
      "Epoch 35/400\n",
      "30/30 [==============================] - 0s 5ms/step - loss: 909.7954 - val_loss: 1184.0388\n",
      "Epoch 36/400\n",
      "30/30 [==============================] - 0s 5ms/step - loss: 1013.8796 - val_loss: 1184.2677\n",
      "Epoch 37/400\n",
      "30/30 [==============================] - 0s 5ms/step - loss: 926.8814 - val_loss: 1181.3673\n",
      "Epoch 38/400\n",
      "30/30 [==============================] - 0s 5ms/step - loss: 1380.7818 - val_loss: 1183.3978\n",
      "Epoch 39/400\n",
      "30/30 [==============================] - 0s 6ms/step - loss: 1090.6904 - val_loss: 1180.8937\n",
      "Epoch 40/400\n",
      "30/30 [==============================] - 0s 5ms/step - loss: 1192.8082 - val_loss: 1177.5521\n",
      "Epoch 41/400\n",
      "30/30 [==============================] - 0s 5ms/step - loss: 1099.7428 - val_loss: 1179.7693\n",
      "Epoch 42/400\n",
      "30/30 [==============================] - 0s 5ms/step - loss: 1168.8954 - val_loss: 1174.4083\n",
      "Epoch 43/400\n",
      "30/30 [==============================] - 0s 5ms/step - loss: 970.8407 - val_loss: 1186.7279\n",
      "Epoch 44/400\n",
      "30/30 [==============================] - 0s 5ms/step - loss: 1268.6576 - val_loss: 1178.6692\n",
      "Epoch 45/400\n",
      "30/30 [==============================] - 0s 5ms/step - loss: 1145.4142 - val_loss: 1177.5442\n",
      "Epoch 46/400\n",
      "30/30 [==============================] - 0s 5ms/step - loss: 1155.2136 - val_loss: 1177.7947\n",
      "Epoch 47/400\n",
      "30/30 [==============================] - 0s 5ms/step - loss: 1290.3350 - val_loss: 1180.6947\n",
      "Epoch 48/400\n",
      "30/30 [==============================] - 0s 5ms/step - loss: 1339.6283 - val_loss: 1180.8689\n",
      "Epoch 49/400\n",
      "30/30 [==============================] - 0s 5ms/step - loss: 961.3764 - val_loss: 1178.7736\n",
      "Epoch 50/400\n",
      "30/30 [==============================] - 0s 5ms/step - loss: 1467.1817 - val_loss: 1186.1271\n",
      "Epoch 51/400\n",
      "30/30 [==============================] - 0s 5ms/step - loss: 967.8727 - val_loss: 1170.9764\n",
      "Epoch 52/400\n",
      "30/30 [==============================] - 0s 5ms/step - loss: 1169.8702 - val_loss: 1176.8668\n",
      "Epoch 53/400\n",
      "30/30 [==============================] - 0s 5ms/step - loss: 1115.5528 - val_loss: 1167.2096\n",
      "Epoch 54/400\n",
      "30/30 [==============================] - 0s 5ms/step - loss: 964.7091 - val_loss: 1171.9938\n",
      "Epoch 55/400\n",
      "30/30 [==============================] - 0s 5ms/step - loss: 1206.9657 - val_loss: 1175.1906\n",
      "Epoch 56/400\n",
      "30/30 [==============================] - 0s 5ms/step - loss: 1321.0091 - val_loss: 1177.6392\n",
      "Epoch 57/400\n",
      "30/30 [==============================] - 0s 5ms/step - loss: 988.9651 - val_loss: 1173.7240\n",
      "Epoch 58/400\n",
      "30/30 [==============================] - 0s 5ms/step - loss: 1015.3936 - val_loss: 1169.1287\n",
      "Epoch 59/400\n",
      "30/30 [==============================] - 0s 5ms/step - loss: 1236.9062 - val_loss: 1173.2274\n",
      "Epoch 60/400\n",
      "30/30 [==============================] - 0s 6ms/step - loss: 1113.2547 - val_loss: 1184.1799\n",
      "Epoch 61/400\n",
      "30/30 [==============================] - 0s 5ms/step - loss: 1224.1585 - val_loss: 1173.3055\n",
      "Epoch 62/400\n",
      "30/30 [==============================] - 0s 5ms/step - loss: 1156.0083 - val_loss: 1165.3862\n",
      "Epoch 63/400\n",
      "30/30 [==============================] - 0s 5ms/step - loss: 961.5547 - val_loss: 1162.7969\n",
      "Epoch 64/400\n",
      "30/30 [==============================] - 0s 5ms/step - loss: 1487.7331 - val_loss: 1172.6067\n",
      "Epoch 65/400\n",
      "30/30 [==============================] - 0s 5ms/step - loss: 1027.1059 - val_loss: 1170.1833\n",
      "Epoch 66/400\n",
      "30/30 [==============================] - 0s 5ms/step - loss: 1108.5326 - val_loss: 1175.3341\n",
      "Epoch 67/400\n",
      "30/30 [==============================] - 0s 5ms/step - loss: 1031.7591 - val_loss: 1164.1180\n",
      "Epoch 68/400\n",
      "30/30 [==============================] - 0s 5ms/step - loss: 1086.4601 - val_loss: 1173.1249\n",
      "Epoch 69/400\n",
      "30/30 [==============================] - 0s 5ms/step - loss: 1223.7993 - val_loss: 1175.1533\n",
      "Epoch 70/400\n",
      "30/30 [==============================] - 0s 5ms/step - loss: 1251.3101 - val_loss: 1179.5062\n",
      "Epoch 71/400\n",
      "30/30 [==============================] - 0s 5ms/step - loss: 948.6521 - val_loss: 1179.3428\n",
      "Epoch 72/400\n",
      "30/30 [==============================] - 0s 5ms/step - loss: 1268.8703 - val_loss: 1172.5779\n",
      "Epoch 73/400\n",
      "30/30 [==============================] - 0s 5ms/step - loss: 1385.9064 - val_loss: 1175.6720\n",
      "Epoch 74/400\n",
      "30/30 [==============================] - 0s 5ms/step - loss: 1275.9101 - val_loss: 1180.3418\n",
      "Epoch 75/400\n",
      "30/30 [==============================] - 0s 5ms/step - loss: 1148.7068 - val_loss: 1176.5638\n",
      "Epoch 76/400\n",
      "30/30 [==============================] - 0s 5ms/step - loss: 1049.5059 - val_loss: 1166.2373\n",
      "Epoch 77/400\n",
      "30/30 [==============================] - 0s 5ms/step - loss: 1222.9923 - val_loss: 1179.5095\n",
      "Epoch 78/400\n",
      "30/30 [==============================] - 0s 5ms/step - loss: 1074.0524 - val_loss: 1175.1714\n",
      "Epoch 79/400\n",
      "30/30 [==============================] - 0s 5ms/step - loss: 1083.4013 - val_loss: 1168.6285\n",
      "Epoch 80/400\n",
      "30/30 [==============================] - 0s 5ms/step - loss: 1551.3140 - val_loss: 1166.6614\n",
      "Epoch 81/400\n",
      "30/30 [==============================] - 0s 5ms/step - loss: 983.3423 - val_loss: 1167.4786\n",
      "Epoch 82/400\n",
      "30/30 [==============================] - 0s 5ms/step - loss: 1284.4446 - val_loss: 1183.3103\n",
      "Epoch 83/400\n",
      "30/30 [==============================] - 0s 5ms/step - loss: 1115.7415 - val_loss: 1180.1681\n",
      "Minimum Validation Loss: 1162.7969\n"
     ]
    },
    {
     "output_type": "display_data",
     "data": {
      "text/plain": "<Figure size 432x288 with 1 Axes>",
      "image/svg+xml": "<?xml version=\"1.0\" encoding=\"utf-8\" standalone=\"no\"?>\n<!DOCTYPE svg PUBLIC \"-//W3C//DTD SVG 1.1//EN\"\n  \"http://www.w3.org/Graphics/SVG/1.1/DTD/svg11.dtd\">\n<!-- Created with matplotlib (https://matplotlib.org/) -->\n<svg height=\"248.518125pt\" version=\"1.1\" viewBox=\"0 0 381.65 248.518125\" width=\"381.65pt\" xmlns=\"http://www.w3.org/2000/svg\" xmlns:xlink=\"http://www.w3.org/1999/xlink\">\n <metadata>\n  <rdf:RDF xmlns:cc=\"http://creativecommons.org/ns#\" xmlns:dc=\"http://purl.org/dc/elements/1.1/\" xmlns:rdf=\"http://www.w3.org/1999/02/22-rdf-syntax-ns#\">\n   <cc:Work>\n    <dc:type rdf:resource=\"http://purl.org/dc/dcmitype/StillImage\"/>\n    <dc:date>2021-04-14T21:00:55.190041</dc:date>\n    <dc:format>image/svg+xml</dc:format>\n    <dc:creator>\n     <cc:Agent>\n      <dc:title>Matplotlib v3.3.3, https://matplotlib.org/</dc:title>\n     </cc:Agent>\n    </dc:creator>\n   </cc:Work>\n  </rdf:RDF>\n </metadata>\n <defs>\n  <style type=\"text/css\">*{stroke-linecap:butt;stroke-linejoin:round;}</style>\n </defs>\n <g id=\"figure_1\">\n  <g id=\"patch_1\">\n   <path d=\"M -0 248.518125 \nL 381.65 248.518125 \nL 381.65 0 \nL -0 0 \nz\n\" style=\"fill:none;\"/>\n  </g>\n  <g id=\"axes_1\">\n   <g id=\"patch_2\">\n    <path d=\"M 39.65 224.64 \nL 374.45 224.64 \nL 374.45 7.2 \nL 39.65 7.2 \nz\n\" style=\"fill:#ffffff;\"/>\n   </g>\n   <g id=\"matplotlib.axis_1\">\n    <g id=\"xtick_1\">\n     <g id=\"line2d_1\">\n      <defs>\n       <path d=\"M 0 0 \nL 0 3.5 \n\" id=\"m65d340bb82\" style=\"stroke:#000000;stroke-width:0.8;\"/>\n      </defs>\n      <g>\n       <use style=\"stroke:#000000;stroke-width:0.8;\" x=\"54.868182\" xlink:href=\"#m65d340bb82\" y=\"224.64\"/>\n      </g>\n     </g>\n     <g id=\"text_1\">\n      <!-- 0 -->\n      <g transform=\"translate(51.686932 239.238437)scale(0.1 -0.1)\">\n       <defs>\n        <path d=\"M 31.78125 66.40625 \nQ 24.171875 66.40625 20.328125 58.90625 \nQ 16.5 51.421875 16.5 36.375 \nQ 16.5 21.390625 20.328125 13.890625 \nQ 24.171875 6.390625 31.78125 6.390625 \nQ 39.453125 6.390625 43.28125 13.890625 \nQ 47.125 21.390625 47.125 36.375 \nQ 47.125 51.421875 43.28125 58.90625 \nQ 39.453125 66.40625 31.78125 66.40625 \nz\nM 31.78125 74.21875 \nQ 44.046875 74.21875 50.515625 64.515625 \nQ 56.984375 54.828125 56.984375 36.375 \nQ 56.984375 17.96875 50.515625 8.265625 \nQ 44.046875 -1.421875 31.78125 -1.421875 \nQ 19.53125 -1.421875 13.0625 8.265625 \nQ 6.59375 17.96875 6.59375 36.375 \nQ 6.59375 54.828125 13.0625 64.515625 \nQ 19.53125 74.21875 31.78125 74.21875 \nz\n\" id=\"DejaVuSans-48\"/>\n       </defs>\n       <use xlink:href=\"#DejaVuSans-48\"/>\n      </g>\n     </g>\n    </g>\n    <g id=\"xtick_2\">\n     <g id=\"line2d_2\">\n      <g>\n       <use style=\"stroke:#000000;stroke-width:0.8;\" x=\"129.103215\" xlink:href=\"#m65d340bb82\" y=\"224.64\"/>\n      </g>\n     </g>\n     <g id=\"text_2\">\n      <!-- 20 -->\n      <g transform=\"translate(122.740715 239.238437)scale(0.1 -0.1)\">\n       <defs>\n        <path d=\"M 19.1875 8.296875 \nL 53.609375 8.296875 \nL 53.609375 0 \nL 7.328125 0 \nL 7.328125 8.296875 \nQ 12.9375 14.109375 22.625 23.890625 \nQ 32.328125 33.6875 34.8125 36.53125 \nQ 39.546875 41.84375 41.421875 45.53125 \nQ 43.3125 49.21875 43.3125 52.78125 \nQ 43.3125 58.59375 39.234375 62.25 \nQ 35.15625 65.921875 28.609375 65.921875 \nQ 23.96875 65.921875 18.8125 64.3125 \nQ 13.671875 62.703125 7.8125 59.421875 \nL 7.8125 69.390625 \nQ 13.765625 71.78125 18.9375 73 \nQ 24.125 74.21875 28.421875 74.21875 \nQ 39.75 74.21875 46.484375 68.546875 \nQ 53.21875 62.890625 53.21875 53.421875 \nQ 53.21875 48.921875 51.53125 44.890625 \nQ 49.859375 40.875 45.40625 35.40625 \nQ 44.1875 33.984375 37.640625 27.21875 \nQ 31.109375 20.453125 19.1875 8.296875 \nz\n\" id=\"DejaVuSans-50\"/>\n       </defs>\n       <use xlink:href=\"#DejaVuSans-50\"/>\n       <use x=\"63.623047\" xlink:href=\"#DejaVuSans-48\"/>\n      </g>\n     </g>\n    </g>\n    <g id=\"xtick_3\">\n     <g id=\"line2d_3\">\n      <g>\n       <use style=\"stroke:#000000;stroke-width:0.8;\" x=\"203.338248\" xlink:href=\"#m65d340bb82\" y=\"224.64\"/>\n      </g>\n     </g>\n     <g id=\"text_3\">\n      <!-- 40 -->\n      <g transform=\"translate(196.975748 239.238437)scale(0.1 -0.1)\">\n       <defs>\n        <path d=\"M 37.796875 64.3125 \nL 12.890625 25.390625 \nL 37.796875 25.390625 \nz\nM 35.203125 72.90625 \nL 47.609375 72.90625 \nL 47.609375 25.390625 \nL 58.015625 25.390625 \nL 58.015625 17.1875 \nL 47.609375 17.1875 \nL 47.609375 0 \nL 37.796875 0 \nL 37.796875 17.1875 \nL 4.890625 17.1875 \nL 4.890625 26.703125 \nz\n\" id=\"DejaVuSans-52\"/>\n       </defs>\n       <use xlink:href=\"#DejaVuSans-52\"/>\n       <use x=\"63.623047\" xlink:href=\"#DejaVuSans-48\"/>\n      </g>\n     </g>\n    </g>\n    <g id=\"xtick_4\">\n     <g id=\"line2d_4\">\n      <g>\n       <use style=\"stroke:#000000;stroke-width:0.8;\" x=\"277.573282\" xlink:href=\"#m65d340bb82\" y=\"224.64\"/>\n      </g>\n     </g>\n     <g id=\"text_4\">\n      <!-- 60 -->\n      <g transform=\"translate(271.210782 239.238437)scale(0.1 -0.1)\">\n       <defs>\n        <path d=\"M 33.015625 40.375 \nQ 26.375 40.375 22.484375 35.828125 \nQ 18.609375 31.296875 18.609375 23.390625 \nQ 18.609375 15.53125 22.484375 10.953125 \nQ 26.375 6.390625 33.015625 6.390625 \nQ 39.65625 6.390625 43.53125 10.953125 \nQ 47.40625 15.53125 47.40625 23.390625 \nQ 47.40625 31.296875 43.53125 35.828125 \nQ 39.65625 40.375 33.015625 40.375 \nz\nM 52.59375 71.296875 \nL 52.59375 62.3125 \nQ 48.875 64.0625 45.09375 64.984375 \nQ 41.3125 65.921875 37.59375 65.921875 \nQ 27.828125 65.921875 22.671875 59.328125 \nQ 17.53125 52.734375 16.796875 39.40625 \nQ 19.671875 43.65625 24.015625 45.921875 \nQ 28.375 48.1875 33.59375 48.1875 \nQ 44.578125 48.1875 50.953125 41.515625 \nQ 57.328125 34.859375 57.328125 23.390625 \nQ 57.328125 12.15625 50.6875 5.359375 \nQ 44.046875 -1.421875 33.015625 -1.421875 \nQ 20.359375 -1.421875 13.671875 8.265625 \nQ 6.984375 17.96875 6.984375 36.375 \nQ 6.984375 53.65625 15.1875 63.9375 \nQ 23.390625 74.21875 37.203125 74.21875 \nQ 40.921875 74.21875 44.703125 73.484375 \nQ 48.484375 72.75 52.59375 71.296875 \nz\n\" id=\"DejaVuSans-54\"/>\n       </defs>\n       <use xlink:href=\"#DejaVuSans-54\"/>\n       <use x=\"63.623047\" xlink:href=\"#DejaVuSans-48\"/>\n      </g>\n     </g>\n    </g>\n    <g id=\"xtick_5\">\n     <g id=\"line2d_5\">\n      <g>\n       <use style=\"stroke:#000000;stroke-width:0.8;\" x=\"351.808315\" xlink:href=\"#m65d340bb82\" y=\"224.64\"/>\n      </g>\n     </g>\n     <g id=\"text_5\">\n      <!-- 80 -->\n      <g transform=\"translate(345.445815 239.238437)scale(0.1 -0.1)\">\n       <defs>\n        <path d=\"M 31.78125 34.625 \nQ 24.75 34.625 20.71875 30.859375 \nQ 16.703125 27.09375 16.703125 20.515625 \nQ 16.703125 13.921875 20.71875 10.15625 \nQ 24.75 6.390625 31.78125 6.390625 \nQ 38.8125 6.390625 42.859375 10.171875 \nQ 46.921875 13.96875 46.921875 20.515625 \nQ 46.921875 27.09375 42.890625 30.859375 \nQ 38.875 34.625 31.78125 34.625 \nz\nM 21.921875 38.8125 \nQ 15.578125 40.375 12.03125 44.71875 \nQ 8.5 49.078125 8.5 55.328125 \nQ 8.5 64.0625 14.71875 69.140625 \nQ 20.953125 74.21875 31.78125 74.21875 \nQ 42.671875 74.21875 48.875 69.140625 \nQ 55.078125 64.0625 55.078125 55.328125 \nQ 55.078125 49.078125 51.53125 44.71875 \nQ 48 40.375 41.703125 38.8125 \nQ 48.828125 37.15625 52.796875 32.3125 \nQ 56.78125 27.484375 56.78125 20.515625 \nQ 56.78125 9.90625 50.3125 4.234375 \nQ 43.84375 -1.421875 31.78125 -1.421875 \nQ 19.734375 -1.421875 13.25 4.234375 \nQ 6.78125 9.90625 6.78125 20.515625 \nQ 6.78125 27.484375 10.78125 32.3125 \nQ 14.796875 37.15625 21.921875 38.8125 \nz\nM 18.3125 54.390625 \nQ 18.3125 48.734375 21.84375 45.5625 \nQ 25.390625 42.390625 31.78125 42.390625 \nQ 38.140625 42.390625 41.71875 45.5625 \nQ 45.3125 48.734375 45.3125 54.390625 \nQ 45.3125 60.0625 41.71875 63.234375 \nQ 38.140625 66.40625 31.78125 66.40625 \nQ 25.390625 66.40625 21.84375 63.234375 \nQ 18.3125 60.0625 18.3125 54.390625 \nz\n\" id=\"DejaVuSans-56\"/>\n       </defs>\n       <use xlink:href=\"#DejaVuSans-56\"/>\n       <use x=\"63.623047\" xlink:href=\"#DejaVuSans-48\"/>\n      </g>\n     </g>\n    </g>\n   </g>\n   <g id=\"matplotlib.axis_2\">\n    <g id=\"ytick_1\">\n     <g id=\"line2d_6\">\n      <defs>\n       <path d=\"M 0 0 \nL -3.5 0 \n\" id=\"m4d8c3dfe31\" style=\"stroke:#000000;stroke-width:0.8;\"/>\n      </defs>\n      <g>\n       <use style=\"stroke:#000000;stroke-width:0.8;\" x=\"39.65\" xlink:href=\"#m4d8c3dfe31\" y=\"203.292387\"/>\n      </g>\n     </g>\n     <g id=\"text_6\">\n      <!-- 1160 -->\n      <g transform=\"translate(7.2 207.091606)scale(0.1 -0.1)\">\n       <defs>\n        <path d=\"M 12.40625 8.296875 \nL 28.515625 8.296875 \nL 28.515625 63.921875 \nL 10.984375 60.40625 \nL 10.984375 69.390625 \nL 28.421875 72.90625 \nL 38.28125 72.90625 \nL 38.28125 8.296875 \nL 54.390625 8.296875 \nL 54.390625 0 \nL 12.40625 0 \nz\n\" id=\"DejaVuSans-49\"/>\n       </defs>\n       <use xlink:href=\"#DejaVuSans-49\"/>\n       <use x=\"63.623047\" xlink:href=\"#DejaVuSans-49\"/>\n       <use x=\"127.246094\" xlink:href=\"#DejaVuSans-54\"/>\n       <use x=\"190.869141\" xlink:href=\"#DejaVuSans-48\"/>\n      </g>\n     </g>\n    </g>\n    <g id=\"ytick_2\">\n     <g id=\"line2d_7\">\n      <g>\n       <use style=\"stroke:#000000;stroke-width:0.8;\" x=\"39.65\" xlink:href=\"#m4d8c3dfe31\" y=\"163.236559\"/>\n      </g>\n     </g>\n     <g id=\"text_7\">\n      <!-- 1180 -->\n      <g transform=\"translate(7.2 167.035778)scale(0.1 -0.1)\">\n       <use xlink:href=\"#DejaVuSans-49\"/>\n       <use x=\"63.623047\" xlink:href=\"#DejaVuSans-49\"/>\n       <use x=\"127.246094\" xlink:href=\"#DejaVuSans-56\"/>\n       <use x=\"190.869141\" xlink:href=\"#DejaVuSans-48\"/>\n      </g>\n     </g>\n    </g>\n    <g id=\"ytick_3\">\n     <g id=\"line2d_8\">\n      <g>\n       <use style=\"stroke:#000000;stroke-width:0.8;\" x=\"39.65\" xlink:href=\"#m4d8c3dfe31\" y=\"123.18073\"/>\n      </g>\n     </g>\n     <g id=\"text_8\">\n      <!-- 1200 -->\n      <g transform=\"translate(7.2 126.979949)scale(0.1 -0.1)\">\n       <use xlink:href=\"#DejaVuSans-49\"/>\n       <use x=\"63.623047\" xlink:href=\"#DejaVuSans-50\"/>\n       <use x=\"127.246094\" xlink:href=\"#DejaVuSans-48\"/>\n       <use x=\"190.869141\" xlink:href=\"#DejaVuSans-48\"/>\n      </g>\n     </g>\n    </g>\n    <g id=\"ytick_4\">\n     <g id=\"line2d_9\">\n      <g>\n       <use style=\"stroke:#000000;stroke-width:0.8;\" x=\"39.65\" xlink:href=\"#m4d8c3dfe31\" y=\"83.124902\"/>\n      </g>\n     </g>\n     <g id=\"text_9\">\n      <!-- 1220 -->\n      <g transform=\"translate(7.2 86.92412)scale(0.1 -0.1)\">\n       <use xlink:href=\"#DejaVuSans-49\"/>\n       <use x=\"63.623047\" xlink:href=\"#DejaVuSans-50\"/>\n       <use x=\"127.246094\" xlink:href=\"#DejaVuSans-50\"/>\n       <use x=\"190.869141\" xlink:href=\"#DejaVuSans-48\"/>\n      </g>\n     </g>\n    </g>\n    <g id=\"ytick_5\">\n     <g id=\"line2d_10\">\n      <g>\n       <use style=\"stroke:#000000;stroke-width:0.8;\" x=\"39.65\" xlink:href=\"#m4d8c3dfe31\" y=\"43.069073\"/>\n      </g>\n     </g>\n     <g id=\"text_10\">\n      <!-- 1240 -->\n      <g transform=\"translate(7.2 46.868292)scale(0.1 -0.1)\">\n       <use xlink:href=\"#DejaVuSans-49\"/>\n       <use x=\"63.623047\" xlink:href=\"#DejaVuSans-50\"/>\n       <use x=\"127.246094\" xlink:href=\"#DejaVuSans-52\"/>\n       <use x=\"190.869141\" xlink:href=\"#DejaVuSans-48\"/>\n      </g>\n     </g>\n    </g>\n   </g>\n   <g id=\"line2d_11\">\n    <path clip-path=\"url(#p6ab809d967)\" d=\"M 54.868182 17.083636 \nL 58.579933 19.464885 \nL 62.291685 21.922656 \nL 66.003437 24.562077 \nL 69.715188 27.668213 \nL 73.42694 30.394914 \nL 77.138692 34.338887 \nL 80.850443 37.062165 \nL 84.562195 40.241157 \nL 88.273947 45.466457 \nL 91.985698 47.790008 \nL 95.69745 51.901452 \nL 99.409202 54.403229 \nL 103.120953 60.722829 \nL 106.832705 61.081483 \nL 110.544457 66.404576 \nL 114.256208 70.482036 \nL 117.96796 72.390458 \nL 121.679712 75.13525 \nL 125.391463 78.281725 \nL 129.103215 81.317451 \nL 132.814967 84.403295 \nL 136.526718 84.479573 \nL 140.23847 90.51973 \nL 143.950222 93.150349 \nL 147.661973 97.645628 \nL 151.373725 100.116846 \nL 155.085477 102.194938 \nL 158.797228 105.046813 \nL 162.50898 106.230592 \nL 166.220732 110.197547 \nL 169.932483 113.075092 \nL 173.644235 116.882156 \nL 177.355987 117.330291 \nL 181.067738 123.947424 \nL 184.77949 131.44689 \nL 188.491242 128.504557 \nL 192.202993 127.687255 \nL 195.914745 130.88116 \nL 199.626497 136.288844 \nL 203.338248 138.365957 \nL 207.05 125.192078 \nL 210.761752 139.191571 \nL 214.473503 143.100339 \nL 218.185255 143.093983 \nL 221.897007 155.421712 \nL 225.608758 154.718828 \nL 229.32051 154.594876 \nL 233.032262 162.18969 \nL 236.744013 155.323919 \nL 240.455765 160.559977 \nL 244.167517 162.712146 \nL 247.879268 165.867423 \nL 251.59102 161.995816 \nL 255.302772 176.68059 \nL 259.014523 173.169593 \nL 262.726275 174.480746 \nL 266.438027 173.353198 \nL 270.149778 178.006901 \nL 273.86153 170.626008 \nL 277.573282 176.167423 \nL 281.285033 180.25344 \nL 284.996785 184.004029 \nL 288.708537 191.342138 \nL 292.420288 191.157554 \nL 296.13204 193.107538 \nL 299.843792 182.513182 \nL 303.555543 187.835297 \nL 307.267295 188.402738 \nL 310.979047 202.342577 \nL 314.690798 197.975895 \nL 318.40255 210.484052 \nL 322.114302 212.697586 \nL 325.826053 206.644716 \nL 329.537805 210.447624 \nL 333.249557 214.756364 \nL 336.961308 210.991106 \nL 340.67306 210.365723 \nL 344.384812 210.081635 \nL 348.096563 209.880916 \nL 351.808315 208.593966 \nL 355.520067 211.914512 \nL 359.231818 213.151588 \n\" style=\"fill:none;stroke:#1f77b4;stroke-linecap:square;stroke-width:1.5;\"/>\n   </g>\n   <g id=\"line2d_12\">\n    <path clip-path=\"url(#p6ab809d967)\" d=\"M 54.868182 54.533783 \nL 58.579933 56.913809 \nL 62.291685 55.709738 \nL 66.003437 57.99026 \nL 69.715188 58.885551 \nL 73.42694 65.67431 \nL 77.138692 64.265853 \nL 80.850443 68.501492 \nL 84.562195 76.988908 \nL 88.273947 81.115265 \nL 91.985698 87.8231 \nL 95.69745 95.540644 \nL 99.409202 94.332661 \nL 103.120953 107.807252 \nL 106.832705 102.024534 \nL 110.544457 112.900777 \nL 114.256208 112.25828 \nL 117.96796 114.220243 \nL 121.679712 124.141786 \nL 125.391463 130.043811 \nL 129.103215 129.547025 \nL 132.814967 130.218371 \nL 136.526718 132.70768 \nL 140.23847 140.671172 \nL 143.950222 141.589444 \nL 147.661973 138.507023 \nL 151.373725 133.069268 \nL 155.085477 139.283251 \nL 158.797228 144.477014 \nL 162.50898 142.60013 \nL 166.220732 142.16202 \nL 169.932483 161.980902 \nL 173.644235 145.837553 \nL 177.355987 157.592951 \nL 181.067738 155.147648 \nL 184.77949 154.689245 \nL 188.491242 160.498123 \nL 192.202993 156.43142 \nL 195.914745 161.446711 \nL 199.626497 168.139144 \nL 203.338248 163.698629 \nL 207.05 174.435517 \nL 210.761752 149.761968 \nL 214.473503 165.901895 \nL 218.185255 168.155035 \nL 221.897007 167.653359 \nL 225.608758 161.845215 \nL 229.32051 161.49634 \nL 233.032262 165.692863 \nL 236.744013 150.965305 \nL 240.455765 181.308867 \nL 244.167517 169.511662 \nL 247.879268 188.853073 \nL 251.59102 179.271359 \nL 255.302772 172.868881 \nL 259.014523 167.964829 \nL 262.726275 175.80608 \nL 266.438027 185.009581 \nL 270.149778 176.80063 \nL 273.86153 154.865028 \nL 277.573282 176.644162 \nL 281.285033 192.504891 \nL 284.996785 197.69083 \nL 288.708537 178.043818 \nL 292.420288 182.897262 \nL 296.13204 172.58137 \nL 299.843792 195.044808 \nL 303.555543 177.005994 \nL 307.267295 172.943447 \nL 310.979047 164.225486 \nL 314.690798 164.552847 \nL 318.40255 178.101515 \nL 322.114302 171.904646 \nL 325.826053 162.552011 \nL 329.537805 170.118465 \nL 333.249557 190.800367 \nL 336.961308 164.218885 \nL 340.67306 172.907264 \nL 344.384812 186.011221 \nL 348.096563 189.951039 \nL 351.808315 188.314236 \nL 355.520067 156.606713 \nL 359.231818 162.899908 \n\" style=\"fill:none;stroke:#ff7f0e;stroke-linecap:square;stroke-width:1.5;\"/>\n   </g>\n   <g id=\"patch_3\">\n    <path d=\"M 39.65 224.64 \nL 39.65 7.2 \n\" style=\"fill:none;stroke:#000000;stroke-linecap:square;stroke-linejoin:miter;stroke-width:0.8;\"/>\n   </g>\n   <g id=\"patch_4\">\n    <path d=\"M 374.45 224.64 \nL 374.45 7.2 \n\" style=\"fill:none;stroke:#000000;stroke-linecap:square;stroke-linejoin:miter;stroke-width:0.8;\"/>\n   </g>\n   <g id=\"patch_5\">\n    <path d=\"M 39.65 224.64 \nL 374.45 224.64 \n\" style=\"fill:none;stroke:#000000;stroke-linecap:square;stroke-linejoin:miter;stroke-width:0.8;\"/>\n   </g>\n   <g id=\"patch_6\">\n    <path d=\"M 39.65 7.2 \nL 374.45 7.2 \n\" style=\"fill:none;stroke:#000000;stroke-linecap:square;stroke-linejoin:miter;stroke-width:0.8;\"/>\n   </g>\n   <g id=\"legend_1\">\n    <g id=\"patch_7\">\n     <path d=\"M 296.309375 44.834375 \nL 367.45 44.834375 \nQ 369.45 44.834375 369.45 42.834375 \nL 369.45 14.2 \nQ 369.45 12.2 367.45 12.2 \nL 296.309375 12.2 \nQ 294.309375 12.2 294.309375 14.2 \nL 294.309375 42.834375 \nQ 294.309375 44.834375 296.309375 44.834375 \nz\n\" style=\"fill:#ffffff;opacity:0.8;stroke:#cccccc;stroke-linejoin:miter;\"/>\n    </g>\n    <g id=\"line2d_13\">\n     <path d=\"M 298.309375 20.298437 \nL 318.309375 20.298437 \n\" style=\"fill:none;stroke:#1f77b4;stroke-linecap:square;stroke-width:1.5;\"/>\n    </g>\n    <g id=\"line2d_14\"/>\n    <g id=\"text_11\">\n     <!-- loss -->\n     <g transform=\"translate(326.309375 23.798437)scale(0.1 -0.1)\">\n      <defs>\n       <path d=\"M 9.421875 75.984375 \nL 18.40625 75.984375 \nL 18.40625 0 \nL 9.421875 0 \nz\n\" id=\"DejaVuSans-108\"/>\n       <path d=\"M 30.609375 48.390625 \nQ 23.390625 48.390625 19.1875 42.75 \nQ 14.984375 37.109375 14.984375 27.296875 \nQ 14.984375 17.484375 19.15625 11.84375 \nQ 23.34375 6.203125 30.609375 6.203125 \nQ 37.796875 6.203125 41.984375 11.859375 \nQ 46.1875 17.53125 46.1875 27.296875 \nQ 46.1875 37.015625 41.984375 42.703125 \nQ 37.796875 48.390625 30.609375 48.390625 \nz\nM 30.609375 56 \nQ 42.328125 56 49.015625 48.375 \nQ 55.71875 40.765625 55.71875 27.296875 \nQ 55.71875 13.875 49.015625 6.21875 \nQ 42.328125 -1.421875 30.609375 -1.421875 \nQ 18.84375 -1.421875 12.171875 6.21875 \nQ 5.515625 13.875 5.515625 27.296875 \nQ 5.515625 40.765625 12.171875 48.375 \nQ 18.84375 56 30.609375 56 \nz\n\" id=\"DejaVuSans-111\"/>\n       <path d=\"M 44.28125 53.078125 \nL 44.28125 44.578125 \nQ 40.484375 46.53125 36.375 47.5 \nQ 32.28125 48.484375 27.875 48.484375 \nQ 21.1875 48.484375 17.84375 46.4375 \nQ 14.5 44.390625 14.5 40.28125 \nQ 14.5 37.15625 16.890625 35.375 \nQ 19.28125 33.59375 26.515625 31.984375 \nL 29.59375 31.296875 \nQ 39.15625 29.25 43.1875 25.515625 \nQ 47.21875 21.78125 47.21875 15.09375 \nQ 47.21875 7.46875 41.1875 3.015625 \nQ 35.15625 -1.421875 24.609375 -1.421875 \nQ 20.21875 -1.421875 15.453125 -0.5625 \nQ 10.6875 0.296875 5.421875 2 \nL 5.421875 11.28125 \nQ 10.40625 8.6875 15.234375 7.390625 \nQ 20.0625 6.109375 24.8125 6.109375 \nQ 31.15625 6.109375 34.5625 8.28125 \nQ 37.984375 10.453125 37.984375 14.40625 \nQ 37.984375 18.0625 35.515625 20.015625 \nQ 33.0625 21.96875 24.703125 23.78125 \nL 21.578125 24.515625 \nQ 13.234375 26.265625 9.515625 29.90625 \nQ 5.8125 33.546875 5.8125 39.890625 \nQ 5.8125 47.609375 11.28125 51.796875 \nQ 16.75 56 26.8125 56 \nQ 31.78125 56 36.171875 55.265625 \nQ 40.578125 54.546875 44.28125 53.078125 \nz\n\" id=\"DejaVuSans-115\"/>\n      </defs>\n      <use xlink:href=\"#DejaVuSans-108\"/>\n      <use x=\"27.783203\" xlink:href=\"#DejaVuSans-111\"/>\n      <use x=\"88.964844\" xlink:href=\"#DejaVuSans-115\"/>\n      <use x=\"141.064453\" xlink:href=\"#DejaVuSans-115\"/>\n     </g>\n    </g>\n    <g id=\"line2d_15\">\n     <path d=\"M 298.309375 34.976562 \nL 318.309375 34.976562 \n\" style=\"fill:none;stroke:#ff7f0e;stroke-linecap:square;stroke-width:1.5;\"/>\n    </g>\n    <g id=\"line2d_16\"/>\n    <g id=\"text_12\">\n     <!-- val_loss -->\n     <g transform=\"translate(326.309375 38.476562)scale(0.1 -0.1)\">\n      <defs>\n       <path d=\"M 2.984375 54.6875 \nL 12.5 54.6875 \nL 29.59375 8.796875 \nL 46.6875 54.6875 \nL 56.203125 54.6875 \nL 35.6875 0 \nL 23.484375 0 \nz\n\" id=\"DejaVuSans-118\"/>\n       <path d=\"M 34.28125 27.484375 \nQ 23.390625 27.484375 19.1875 25 \nQ 14.984375 22.515625 14.984375 16.5 \nQ 14.984375 11.71875 18.140625 8.90625 \nQ 21.296875 6.109375 26.703125 6.109375 \nQ 34.1875 6.109375 38.703125 11.40625 \nQ 43.21875 16.703125 43.21875 25.484375 \nL 43.21875 27.484375 \nz\nM 52.203125 31.203125 \nL 52.203125 0 \nL 43.21875 0 \nL 43.21875 8.296875 \nQ 40.140625 3.328125 35.546875 0.953125 \nQ 30.953125 -1.421875 24.3125 -1.421875 \nQ 15.921875 -1.421875 10.953125 3.296875 \nQ 6 8.015625 6 15.921875 \nQ 6 25.140625 12.171875 29.828125 \nQ 18.359375 34.515625 30.609375 34.515625 \nL 43.21875 34.515625 \nL 43.21875 35.40625 \nQ 43.21875 41.609375 39.140625 45 \nQ 35.0625 48.390625 27.6875 48.390625 \nQ 23 48.390625 18.546875 47.265625 \nQ 14.109375 46.140625 10.015625 43.890625 \nL 10.015625 52.203125 \nQ 14.9375 54.109375 19.578125 55.046875 \nQ 24.21875 56 28.609375 56 \nQ 40.484375 56 46.34375 49.84375 \nQ 52.203125 43.703125 52.203125 31.203125 \nz\n\" id=\"DejaVuSans-97\"/>\n       <path d=\"M 50.984375 -16.609375 \nL 50.984375 -23.578125 \nL -0.984375 -23.578125 \nL -0.984375 -16.609375 \nz\n\" id=\"DejaVuSans-95\"/>\n      </defs>\n      <use xlink:href=\"#DejaVuSans-118\"/>\n      <use x=\"59.179688\" xlink:href=\"#DejaVuSans-97\"/>\n      <use x=\"120.458984\" xlink:href=\"#DejaVuSans-108\"/>\n      <use x=\"148.242188\" xlink:href=\"#DejaVuSans-95\"/>\n      <use x=\"198.242188\" xlink:href=\"#DejaVuSans-108\"/>\n      <use x=\"226.025391\" xlink:href=\"#DejaVuSans-111\"/>\n      <use x=\"287.207031\" xlink:href=\"#DejaVuSans-115\"/>\n      <use x=\"339.306641\" xlink:href=\"#DejaVuSans-115\"/>\n     </g>\n    </g>\n   </g>\n  </g>\n </g>\n <defs>\n  <clipPath id=\"p6ab809d967\">\n   <rect height=\"217.44\" width=\"334.8\" x=\"39.65\" y=\"7.2\"/>\n  </clipPath>\n </defs>\n</svg>\n",
      "image/png": "[encoded data removed]"
     },
     "metadata": {
      "needs_background": "light"
     }
    }
   ],
   "source": [
    "epochs = 400\n",
    "history = model.fit(\n",
    "    X_train, y_train,\n",
    "    validation_split=0.1,\n",
    "    batch_size=128,\n",
    "    epochs=epochs,\n",
    "    callbacks=[early_stopping],\n",
    "    verbose=1,\n",
    ")\n",
    "\n",
    "history_df = pd.DataFrame(history.history)\n",
    "history_df.loc[0:, ['loss', 'val_loss']].plot()\n",
    "print((\"Minimum Validation Loss: {:0.4f}\").format(history_df['val_loss'].min()))"
   ]
  },
  {
   "source": [
    "## Testing the model"
   ],
   "cell_type": "markdown",
   "metadata": {}
  },
  {
   "cell_type": "code",
   "execution_count": 9,
   "metadata": {},
   "outputs": [
    {
     "output_type": "stream",
     "name": "stdout",
     "text": [
      "Mean Absolute Error: 1209.0318603515625\n"
     ]
    }
   ],
   "source": [
    "test_loss = model.evaluate(\n",
    "    X_test, y_test,\n",
    "    verbose=0,\n",
    ")\n",
    "\n",
    "print('Mean Absolute Error:', test_loss)"
   ]
  }
 ]
}